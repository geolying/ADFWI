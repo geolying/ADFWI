{
 "cells": [
  {
   "attachments": {},
   "cell_type": "markdown",
   "metadata": {},
   "source": [
    "## Elastic Wave Equation \n",
    "\n",
    "Linearized equation of motion (Newton's second law) and equation of deformation (Hook's law) are given by\n",
    "\n",
    "$$\\frac{\\partial V_x}{\\partial_t} = -\\frac{1}{\\rho} \\{ \\frac{\\partial \\sigma_{xx}}{\\partial x} + \\frac{\\partial \\sigma_{xz}}{\\partial z} \\},$$\n",
    "$$\\frac{\\partial V_z}{\\partial_t} = -\\frac{1}{\\rho} \\{ \\frac{\\partial \\sigma_{xz}}{\\partial x} + \\frac{\\partial \\sigma_{zz}}{\\partial z} \\},$$\n",
    "$$\\frac{\\partial \\sigma_{xx}}{\\partial_t} = - \\{ \\frac{1}{\\kappa} \\frac{\\partial V_x}{\\partial x} + \\lambda \\frac{\\partial V_z}{\\partial z} \\},$$\n",
    "$$\\frac{\\partial \\sigma_{zz}}{\\partial_t} = - \\{ \\frac{1}{\\kappa} \\frac{\\partial V_z}{\\partial z} + \\lambda \\frac{\\partial V_x}{\\partial x} \\},$$\n",
    "$$\\frac{\\partial \\sigma_{xz}}{\\partial_t} = - \\mu \\{ \\frac{\\partial V_x}{\\partial z} + \\frac{\\partial V_z}{\\partial x} \\},$$\n",
    "where $\\sigma_{ij}$ denotes the $ij$-th component of the symmetric stress tensor from ( Virieux, 1986).\n",
    "\n",
    "The derivative operators need two points on each side of their centre to calculate the derivative at the center. By offsetting the grid, the extra points needed to calculate the derivative at the boundaries of the model are added. These extra layers needed at the edges of the model are also taken into account in the choise of the origin. The origin are defined according to the following mapping:\n",
    "\n",
    "<div align=\"center\">\n",
    "<img src=\"Md_img/2024-05-13-20-13-27.png\">\n",
    "cites from Thorbecke, 2012\n",
    "</div>\n",
    "\n",
    "### Reference\n",
    "[1] Thorbecke, J. (2023). 2D finite-difference wavefield modelling. Delft University.\n",
    "\n",
    "[2] Virieux, J. (1986). P-Sv wave propagation in heterogeneous media - Velocity-stress finite-difference method. Geophysics, 51(04):889–901.\n",
    "\n",
    "[3] Li, L. (2021). FDwave3D: A MATLAB solver for the 3D anisotropic wave equation using the finite-difference method. Comput Geosci. https://doi.org/10.1007/s10596-021-10060-3"
   ]
  },
  {
   "cell_type": "code",
   "execution_count": null,
   "metadata": {},
   "outputs": [],
   "source": []
  }
 ],
 "metadata": {
  "kernelspec": {
   "display_name": "Python 3",
   "language": "python",
   "name": "python3"
  },
  "language_info": {
   "name": "python",
   "version": "3.8.10 (default, Nov 14 2022, 12:59:47) \n[GCC 9.4.0]"
  },
  "orig_nbformat": 4,
  "vscode": {
   "interpreter": {
    "hash": "31f2aee4e71d21fbe5cf8b01ff0e069b9275f58929596ceb00d14d90e3e16cd6"
   }
  }
 },
 "nbformat": 4,
 "nbformat_minor": 2
}
