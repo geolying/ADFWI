{
 "cells": [
  {
   "cell_type": "code",
   "execution_count": 1,
   "metadata": {},
   "outputs": [],
   "source": [
    "import os\n",
    "import numpy as np\n",
    "import matplotlib.pyplot as plt\n",
    "\n",
    "project_path = \"./examples/elastic/Iso-elatic-Marmousi2/data\"\n",
    "\n",
    "iter_vp = np.load(os.path.join(project_path,\"inversion/iter_vp.npz\"))[\"data\"][::3]\n",
    "iter_vs = np.load(os.path.join(project_path,\"inversion/iter_vs.npz\"))[\"data\"][::3]\n",
    "iter_rho = np.power(iter_vp, 0.25) * 310"
   ]
  },
  {
   "cell_type": "code",
   "execution_count": null,
   "metadata": {},
   "outputs": [],
   "source": [
    "###########################################\n",
    "# visualize the inversion results\n",
    "###########################################\n",
    "import matplotlib.pyplot as plt\n",
    "import matplotlib.animation as animation\n",
    "from IPython.display import HTML\n",
    "import os\n",
    "\n",
    "# Set up the figure for plotting\n",
    "fig, ax = plt.subplots(1, 3, figsize=(15, 6))  # Increase figsize for better spacing\n",
    "cax1 = ax[0].imshow(iter_vp[0], aspect='equal', cmap='jet_r', vmin=iter_vp.min(), vmax=iter_vp.max())\n",
    "cax2 = ax[1].imshow(iter_vs[0], aspect='equal', cmap='jet_r', vmin=iter_vs.min(), vmax=iter_vs.max())\n",
    "cax3 = ax[2].imshow(iter_rho[0], aspect='equal', cmap='jet_r', vmin=iter_rho.min(), vmax=iter_rho.max())\n",
    "\n",
    "# Create horizontal colorbars with adjustments\n",
    "cbar1 = fig.colorbar(cax1, ax=ax[0], orientation='horizontal', fraction=0.046, pad=0.1, shrink=0.8)\n",
    "cbar1.set_label('Velocity (m/s)', fontsize=10)\n",
    "cbar2 = fig.colorbar(cax2, ax=ax[1], orientation='horizontal', fraction=0.046, pad=0.1, shrink=0.8)\n",
    "cbar2.set_label('Velocity (m/s)', fontsize=10)\n",
    "cbar3 = fig.colorbar(cax3, ax=ax[2], orientation='horizontal', fraction=0.046, pad=0.1, shrink=0.8)\n",
    "cbar3.set_label('Density (kg/m³)', fontsize=10)\n",
    "\n",
    "# Set titles for each subplot\n",
    "ax[0].set_title('P-wave Velocity', fontsize=12)\n",
    "ax[1].set_title('S-wave Velocity', fontsize=12)\n",
    "ax[2].set_title('Density', fontsize=12)\n",
    "\n",
    "# Adjust layout to ensure centering\n",
    "plt.subplots_adjust(top=0.85, bottom=0.35, left=0.1, right=0.9)\n",
    "\n",
    "# Initialization function\n",
    "def init():\n",
    "    cax1.set_array(iter_vp[0])\n",
    "    cax2.set_array(iter_vs[0])\n",
    "    cax3.set_array(iter_rho[0])\n",
    "    return cax1, cax2, cax3\n",
    "\n",
    "# Animation function\n",
    "def animate(i):\n",
    "    cax1.set_array(iter_vp[i])\n",
    "    cax2.set_array(iter_vs[i])\n",
    "    cax3.set_array(iter_rho[i])\n",
    "    return cax1, cax2, cax3\n",
    "\n",
    "# Create the animation\n",
    "ani = animation.FuncAnimation(fig, animate, init_func=init, frames=len(iter_vp), interval=200, blit=True)\n",
    "\n",
    "# Save the animation as a GIF file\n",
    "ani.save(os.path.join(project_path, \"inversion/inversion_process.gif\"), writer='pillow', fps=10)\n",
    "\n",
    "# Display the animation using HTML\n",
    "plt.close(fig)  # Prevents static display of the last frame\n",
    "HTML(ani.to_jshtml())"
   ]
  },
  {
   "cell_type": "code",
   "execution_count": null,
   "metadata": {},
   "outputs": [],
   "source": []
  }
 ],
 "metadata": {
  "kernelspec": {
   "display_name": "Python 3",
   "language": "python",
   "name": "python3"
  },
  "language_info": {
   "codemirror_mode": {
    "name": "ipython",
    "version": 3
   },
   "file_extension": ".py",
   "mimetype": "text/x-python",
   "name": "python",
   "nbconvert_exporter": "python",
   "pygments_lexer": "ipython3",
   "version": "3.8.19"
  }
 },
 "nbformat": 4,
 "nbformat_minor": 2
}
