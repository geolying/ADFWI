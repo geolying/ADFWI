{
 "cells": [
  {
   "cell_type": "markdown",
   "metadata": {},
   "source": [
    "## 3 Layer Unet"
   ]
  },
  {
   "cell_type": "code",
   "execution_count": 1,
   "metadata": {},
   "outputs": [],
   "source": [
    "import os\n",
    "import numpy as np\n",
    "import matplotlib.pyplot as plt\n",
    "\n",
    "project_path = \"./examples/dip/02_Unet/data\"\n",
    "\n",
    "# 2layer \n",
    "iter_vp = np.load(os.path.join(project_path,\"inversion-3layer-64channels/iter_vp.npz\"))[\"data\"][::3]"
   ]
  },
  {
   "cell_type": "code",
   "execution_count": null,
   "metadata": {},
   "outputs": [],
   "source": [
    "###########################################\n",
    "# visualize the inversion results\n",
    "###########################################\n",
    "import matplotlib.pyplot as plt\n",
    "import matplotlib.animation as animation\n",
    "from IPython.display import HTML\n",
    "\n",
    "\n",
    "# Set up the figure for plotting\n",
    "fig, ax = plt.subplots(figsize=(8, 6))\n",
    "cax = ax.imshow(iter_vp[0], aspect='equal', cmap='jet_r', vmin=1500, vmax=4146.96)\n",
    "ax.set_title('Inversion Process Visualization')\n",
    "ax.set_xlabel('X Coordinate')\n",
    "ax.set_ylabel('Z Coordinate')\n",
    "# Create a horizontal colorbar\n",
    "cbar = fig.colorbar(cax, ax=ax, orientation='horizontal', fraction=0.046, pad=0.2)\n",
    "cbar.set_label('Velocity (m/s)')\n",
    "# Adjust the layout to minimize white space\n",
    "plt.subplots_adjust(top=0.85, bottom=0.2, left=0.1, right=0.9)\n",
    "# Initialization function\n",
    "def init():\n",
    "    cax.set_array(iter_vp[0])  # Use the 2D array directly\n",
    "    return cax,\n",
    "# Animation function\n",
    "def animate(i):\n",
    "    cax.set_array(iter_vp[i])  # Update with the i-th iteration directly\n",
    "    return cax,\n",
    "# Create the animation\n",
    "ani = animation.FuncAnimation(fig, animate, init_func=init, frames=len(iter_vp), interval=200, blit=True)\n",
    "# Save the animation as a video file (e.g., MP4 format)\n",
    "ani.save(os.path.join(project_path,f\"inversion-3layer-64channels/inversion_process.gif\"), writer='pillow', fps=10)\n",
    "# Display the animation using HTML\n",
    "plt.close(fig)  # Prevents static display of the last frame\n",
    "HTML(ani.to_jshtml())"
   ]
  },
  {
   "cell_type": "markdown",
   "metadata": {},
   "source": [
    "## 4 Layer Unet"
   ]
  },
  {
   "cell_type": "code",
   "execution_count": 3,
   "metadata": {},
   "outputs": [],
   "source": [
    "import os\n",
    "import numpy as np\n",
    "import matplotlib.pyplot as plt\n",
    "\n",
    "project_path = \"./examples/dip/02_Unet/data\"\n",
    "\n",
    "# 2layer \n",
    "iter_vp = np.load(os.path.join(project_path,\"inversion-4layer-64channels/iter_vp.npz\"))[\"data\"][::3]"
   ]
  },
  {
   "cell_type": "code",
   "execution_count": null,
   "metadata": {},
   "outputs": [],
   "source": [
    "###########################################\n",
    "# visualize the inversion results\n",
    "###########################################\n",
    "import matplotlib.pyplot as plt\n",
    "import matplotlib.animation as animation\n",
    "from IPython.display import HTML\n",
    "\n",
    "\n",
    "# Set up the figure for plotting\n",
    "fig, ax = plt.subplots(figsize=(8, 6))\n",
    "cax = ax.imshow(iter_vp[0], aspect='equal', cmap='jet_r', vmin=1500, vmax=4146.96)\n",
    "ax.set_title('Inversion Process Visualization')\n",
    "ax.set_xlabel('X Coordinate')\n",
    "ax.set_ylabel('Z Coordinate')\n",
    "# Create a horizontal colorbar\n",
    "cbar = fig.colorbar(cax, ax=ax, orientation='horizontal', fraction=0.046, pad=0.2)\n",
    "cbar.set_label('Velocity (m/s)')\n",
    "# Adjust the layout to minimize white space\n",
    "plt.subplots_adjust(top=0.85, bottom=0.2, left=0.1, right=0.9)\n",
    "# Initialization function\n",
    "def init():\n",
    "    cax.set_array(iter_vp[0])  # Use the 2D array directly\n",
    "    return cax,\n",
    "# Animation function\n",
    "def animate(i):\n",
    "    cax.set_array(iter_vp[i])  # Update with the i-th iteration directly\n",
    "    return cax,\n",
    "# Create the animation\n",
    "ani = animation.FuncAnimation(fig, animate, init_func=init, frames=len(iter_vp), interval=200, blit=True)\n",
    "# Save the animation as a video file (e.g., MP4 format)\n",
    "ani.save(os.path.join(project_path,f\"inversion-4layer-64channels/inversion_process.gif\"), writer='pillow', fps=10)\n",
    "# Display the animation using HTML\n",
    "plt.close(fig)  # Prevents static display of the last frame\n",
    "HTML(ani.to_jshtml())"
   ]
  },
  {
   "cell_type": "code",
   "execution_count": null,
   "metadata": {},
   "outputs": [],
   "source": []
  }
 ],
 "metadata": {
  "kernelspec": {
   "display_name": "Python 3",
   "language": "python",
   "name": "python3"
  },
  "language_info": {
   "codemirror_mode": {
    "name": "ipython",
    "version": 3
   },
   "file_extension": ".py",
   "mimetype": "text/x-python",
   "name": "python",
   "nbconvert_exporter": "python",
   "pygments_lexer": "ipython3",
   "version": "3.8.19"
  }
 },
 "nbformat": 4,
 "nbformat_minor": 2
}
